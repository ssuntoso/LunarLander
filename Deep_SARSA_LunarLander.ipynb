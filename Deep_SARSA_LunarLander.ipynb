{
  "cells": [
    {
      "cell_type": "markdown",
      "metadata": {
        "id": "s8NQ6UW6LiNy"
      },
      "source": [
        "# Deep SARSA using Pytorch"
      ]
    },
    {
      "cell_type": "code",
      "execution_count": 1,
      "metadata": {
        "colab": {
          "base_uri": "https://localhost:8080/"
        },
        "id": "5hal4-y1LzaK",
        "outputId": "70b540b9-498a-46db-b0ed-add82a8aa4ff"
      },
      "outputs": [
        {
          "name": "stdout",
          "output_type": "stream",
          "text": [
            "Get:1 https://cloud.r-project.org/bin/linux/ubuntu bionic-cran40/ InRelease [3,626 B]\n",
            "Get:2 http://security.ubuntu.com/ubuntu bionic-security InRelease [88.7 kB]\n",
            "Ign:3 https://developer.download.nvidia.com/compute/machine-learning/repos/ubuntu1804/x86_64  InRelease\n",
            "Hit:4 https://developer.download.nvidia.com/compute/cuda/repos/ubuntu1804/x86_64  InRelease\n",
            "Hit:5 http://archive.ubuntu.com/ubuntu bionic InRelease\n",
            "Get:6 http://ppa.launchpad.net/c2d4u.team/c2d4u4.0+/ubuntu bionic InRelease [15.9 kB]\n",
            "Hit:7 https://developer.download.nvidia.com/compute/machine-learning/repos/ubuntu1804/x86_64  Release\n",
            "Get:8 http://archive.ubuntu.com/ubuntu bionic-updates InRelease [88.7 kB]\n",
            "Hit:9 http://ppa.launchpad.net/cran/libgit2/ubuntu bionic InRelease\n",
            "Get:10 http://archive.ubuntu.com/ubuntu bionic-backports InRelease [83.3 kB]\n",
            "Hit:11 http://ppa.launchpad.net/deadsnakes/ppa/ubuntu bionic InRelease\n",
            "Hit:12 http://ppa.launchpad.net/graphics-drivers/ppa/ubuntu bionic InRelease\n",
            "Get:14 http://ppa.launchpad.net/c2d4u.team/c2d4u4.0+/ubuntu bionic/main Sources [2,225 kB]\n",
            "Get:15 http://security.ubuntu.com/ubuntu bionic-security/universe amd64 Packages [1,561 kB]\n",
            "Get:16 http://security.ubuntu.com/ubuntu bionic-security/main amd64 Packages [3,068 kB]\n",
            "Get:17 http://archive.ubuntu.com/ubuntu bionic-updates/multiverse amd64 Packages [29.8 kB]\n",
            "Get:18 http://archive.ubuntu.com/ubuntu bionic-updates/restricted amd64 Packages [1,303 kB]\n",
            "Get:19 http://ppa.launchpad.net/c2d4u.team/c2d4u4.0+/ubuntu bionic/main amd64 Packages [1,138 kB]\n",
            "Get:20 http://archive.ubuntu.com/ubuntu bionic-updates/main amd64 Packages [3,494 kB]\n",
            "Get:21 http://archive.ubuntu.com/ubuntu bionic-updates/universe amd64 Packages [2,336 kB]\n",
            "Fetched 15.4 MB in 4s (3,857 kB/s)\n",
            "Reading package lists... Done\n",
            "Building dependency tree       \n",
            "Reading state information... Done\n",
            "7 packages can be upgraded. Run 'apt list --upgradable' to see them.\n",
            "Reading package lists... Done\n",
            "Building dependency tree       \n",
            "Reading state information... Done\n",
            "The following package was automatically installed and is no longer required:\n",
            "  libnvidia-common-460\n",
            "Use 'apt autoremove' to remove it.\n",
            "The following additional packages will be installed:\n",
            "  freeglut3\n",
            "Suggested packages:\n",
            "  libgle3\n",
            "The following NEW packages will be installed:\n",
            "  freeglut3 python-opengl xvfb\n",
            "0 upgraded, 3 newly installed, 0 to remove and 7 not upgraded.\n",
            "Need to get 1,355 kB of archives.\n",
            "After this operation, 8,005 kB of additional disk space will be used.\n",
            "Get:1 http://archive.ubuntu.com/ubuntu bionic/universe amd64 freeglut3 amd64 2.8.1-3 [73.6 kB]\n",
            "Get:2 http://archive.ubuntu.com/ubuntu bionic/universe amd64 python-opengl all 3.1.0+dfsg-1 [496 kB]\n",
            "Get:3 http://archive.ubuntu.com/ubuntu bionic-updates/universe amd64 xvfb amd64 2:1.19.6-1ubuntu4.11 [785 kB]\n",
            "Fetched 1,355 kB in 1s (1,481 kB/s)\n",
            "Selecting previously unselected package freeglut3:amd64.\n",
            "(Reading database ... 123991 files and directories currently installed.)\n",
            "Preparing to unpack .../freeglut3_2.8.1-3_amd64.deb ...\n",
            "Unpacking freeglut3:amd64 (2.8.1-3) ...\n",
            "Selecting previously unselected package python-opengl.\n",
            "Preparing to unpack .../python-opengl_3.1.0+dfsg-1_all.deb ...\n",
            "Unpacking python-opengl (3.1.0+dfsg-1) ...\n",
            "Selecting previously unselected package xvfb.\n",
            "Preparing to unpack .../xvfb_2%3a1.19.6-1ubuntu4.11_amd64.deb ...\n",
            "Unpacking xvfb (2:1.19.6-1ubuntu4.11) ...\n",
            "Setting up freeglut3:amd64 (2.8.1-3) ...\n",
            "Setting up python-opengl (3.1.0+dfsg-1) ...\n",
            "Setting up xvfb (2:1.19.6-1ubuntu4.11) ...\n",
            "Processing triggers for man-db (2.8.3-2ubuntu0.1) ...\n",
            "Processing triggers for libc-bin (2.27-3ubuntu1.6) ...\n",
            "Looking in indexes: https://pypi.org/simple, https://us-python.pkg.dev/colab-wheels/public/simple/\n",
            "Requirement already satisfied: gym[box2d] in /usr/local/lib/python3.7/dist-packages (0.25.2)\n",
            "Collecting pyvirtualdisplay\n",
            "  Downloading PyVirtualDisplay-3.0-py3-none-any.whl (15 kB)\n",
            "Requirement already satisfied: tqdm in /usr/local/lib/python3.7/dist-packages (4.64.1)\n",
            "Requirement already satisfied: numpy>=1.18.0 in /usr/local/lib/python3.7/dist-packages (from gym[box2d]) (1.21.6)\n",
            "Requirement already satisfied: importlib-metadata>=4.8.0 in /usr/local/lib/python3.7/dist-packages (from gym[box2d]) (4.13.0)\n",
            "Requirement already satisfied: gym-notices>=0.0.4 in /usr/local/lib/python3.7/dist-packages (from gym[box2d]) (0.0.8)\n",
            "Requirement already satisfied: cloudpickle>=1.2.0 in /usr/local/lib/python3.7/dist-packages (from gym[box2d]) (1.5.0)\n",
            "Collecting box2d-py==2.3.5\n",
            "  Downloading box2d_py-2.3.5-cp37-cp37m-manylinux1_x86_64.whl (2.1 MB)\n",
            "\u001b[K     |████████████████████████████████| 2.1 MB 5.1 MB/s \n",
            "\u001b[?25hCollecting pygame==2.1.0\n",
            "  Downloading pygame-2.1.0-cp37-cp37m-manylinux_2_17_x86_64.manylinux2014_x86_64.whl (18.3 MB)\n",
            "\u001b[K     |████████████████████████████████| 18.3 MB 90 kB/s \n",
            "\u001b[?25hCollecting swig==4.*\n",
            "  Downloading swig-4.1.0-py2.py3-none-manylinux_2_5_x86_64.manylinux1_x86_64.whl (1.8 MB)\n",
            "\u001b[K     |████████████████████████████████| 1.8 MB 54.7 MB/s \n",
            "\u001b[?25hRequirement already satisfied: typing-extensions>=3.6.4 in /usr/local/lib/python3.7/dist-packages (from importlib-metadata>=4.8.0->gym[box2d]) (4.1.1)\n",
            "Requirement already satisfied: zipp>=0.5 in /usr/local/lib/python3.7/dist-packages (from importlib-metadata>=4.8.0->gym[box2d]) (3.10.0)\n",
            "Installing collected packages: swig, pygame, box2d-py, pyvirtualdisplay\n",
            "Successfully installed box2d-py-2.3.5 pygame-2.1.0 pyvirtualdisplay-3.0 swig-4.1.0\n"
          ]
        }
      ],
      "source": [
        "!apt update\n",
        "!apt install python-opengl xvfb -y\n",
        "!pip install gym[box2d] pyvirtualdisplay tqdm"
      ]
    },
    {
      "cell_type": "code",
      "execution_count": 2,
      "metadata": {
        "id": "wy58jRb4LiNz"
      },
      "outputs": [],
      "source": [
        "%%capture\n",
        "from pyvirtualdisplay import Display\n",
        "virtual_display = Display(visible=0, size=(1400, 900))\n",
        "virtual_display.start()\n",
        "\n",
        "%matplotlib inline\n",
        "import matplotlib.pyplot as plt\n",
        "\n",
        "from IPython.display import clear_output, display\n",
        "\n",
        "import numpy as np\n",
        "import torch\n",
        "import torch.nn as nn\n",
        "import torch.nn.functional as F\n",
        "from torch.distributions import Categorical\n",
        "from tqdm.notebook import tqdm\n",
        "import random\n",
        "import copy\n",
        "import time"
      ]
    },
    {
      "cell_type": "code",
      "execution_count": 3,
      "metadata": {
        "id": "koRB85jBLiN0"
      },
      "outputs": [],
      "source": [
        "%%capture\n",
        "import gym\n",
        "env = gym.make('LunarLander-v2')"
      ]
    },
    {
      "cell_type": "markdown",
      "metadata": {
        "id": "5Hj7GSwpLiN0"
      },
      "source": [
        "## Creating the Deep Neural Network"
      ]
    },
    {
      "cell_type": "code",
      "execution_count": 4,
      "metadata": {
        "id": "FnCPhoWRLiN1"
      },
      "outputs": [],
      "source": [
        "class Network(nn.Module):\n",
        "    \n",
        "    def __init__(self, state_num , action_num, hidden_layer):\n",
        "        \n",
        "        super(Network, self).__init__()\n",
        "        self.input_layer = nn.Linear(state_num, hidden_layer)\n",
        "        self.h1_layer = nn.Linear(hidden_layer, hidden_layer)\n",
        "        self.h2_layer = nn.Linear(hidden_layer, hidden_layer)\n",
        "        self.output_layer = nn.Linear(hidden_layer, action_num)\n",
        "        \n",
        "\n",
        "    def forward(self, state):\n",
        "        \n",
        "        xh = F.relu(self.input_layer(state))\n",
        "        hh1 = F.relu(self.h1_layer(xh))\n",
        "        hh2 = F.tanh(self.h2_layer(hh1))\n",
        "        state_action_values = self.output_layer(hh2)\n",
        "        \n",
        "        return state_action_values"
      ]
    },
    {
      "cell_type": "code",
      "execution_count": 5,
      "metadata": {
        "id": "wObpFOL3LiN1"
      },
      "outputs": [],
      "source": [
        "class Q_Network(nn.Module):\n",
        "    def __init__(self, state_dim , action_dim):\n",
        "        super(Q_Network, self).__init__()\n",
        "        self.x_layer = nn.Linear(state_dim, 150)\n",
        "        self.h_layer = nn.Linear(150, 120)\n",
        "        self.y_layer = nn.Linear(120, action_dim)\n",
        "        print(self.x_layer)\n",
        "\n",
        "    def forward(self, state):\n",
        "        xh = F.relu(self.x_layer(state))\n",
        "        hh = F.relu(self.h_layer(xh))\n",
        "        state_action_values = self.y_layer(hh)\n",
        "        return state_action_values"
      ]
    },
    {
      "cell_type": "markdown",
      "metadata": {
        "id": "TqyD2mpfLiN1"
      },
      "source": [
        "## Making the Agent"
      ]
    },
    {
      "cell_type": "code",
      "execution_count": 6,
      "metadata": {
        "id": "e-6gSppuLiN2"
      },
      "outputs": [],
      "source": [
        "class DQNAgent(object):\n",
        "    def __init__(self, state_dim, action_dim):\n",
        "        self.qnet = Q_Network(state_dim, action_dim)\n",
        "        self.qnet_optim = torch.optim.Adam(self.qnet.parameters(), lr=0.001)\n",
        "        self.discount_factor = 1\n",
        "        self.MSELoss_function = nn.MSELoss()\n",
        "        self.replay_buffer = ReplayBuffer()\n",
        "        pass\n",
        "    \n",
        "    def epsilon_greedy_action(self, state, epsilon):\n",
        "        if np.random.uniform(0, 1) < epsilon:\n",
        "                return env.action_space.sample()  # choose random action\n",
        "        else:\n",
        "                network_output_to_numpy = self.qnet(state).data.numpy()\n",
        "                return np.argmax(network_output_to_numpy)  # choose greedy action\n",
        "\n",
        "    def update_Q_Network(self, state, next_state, action, reward, terminals):\n",
        "        \n",
        "        qsa = torch.gather(self.qnet(state), dim=1, index=action.long())\n",
        "        qsa_next_action = self.qnet(next_state)\n",
        "        qsa_next_action,_ = torch.max(qsa_next_action, dim=1, keepdim=True)\n",
        "        not_terminals = 1 - terminals\n",
        "        qsa_next_target = reward + not_terminals * self.discount_factor * qsa_next_action\n",
        "        q_network_loss = self.MSELoss_function(qsa, qsa_next_target.detach())\n",
        "        self.qnet_optim.zero_grad()\n",
        "        q_network_loss.backward()\n",
        "        self.qnet_optim.step()\n",
        "        \n",
        "    \n",
        "    def update_Sarsa_Network(self, state, next_state, action, next_action, reward, terminals):\n",
        "\n",
        "        qsa = torch.gather(self.qnet(state), dim=1, index=action.long())\n",
        "\n",
        "        qsa_next_action = torch.gather(self.qnet(next_state), dim=1, index=next_action.long())\n",
        "\n",
        "        not_terminals = 1 - terminals\n",
        "\n",
        "        qsa_next_target = reward + not_terminals * (self.discount_factor * qsa_next_action)\n",
        "\n",
        "        q_network_loss = self.MSELoss_function(qsa, qsa_next_target.detach())\n",
        "        self.qnet_optim.zero_grad()\n",
        "        q_network_loss.backward()\n",
        "        self.qnet_optim.step()\n",
        "        \n",
        "    def update(self, update_rate):\n",
        "        for i in range(update_rate):\n",
        "            states, next_states, actions, rewards, terminals = self.replay_buffer.sample_minibatch(64) \n",
        "            states = torch.Tensor(states)\n",
        "            next_states = torch.Tensor(next_states)\n",
        "            actions = torch.Tensor(actions)\n",
        "            rewards = torch.Tensor(rewards)\n",
        "            terminals = torch.Tensor(terminals)\n",
        "            self.update_Q_Network(states, next_states, actions, rewards, terminals)\n",
        "            \n",
        "    def update_s(self, update_rate):\n",
        "        for i in range(update_rate):\n",
        "            states, next_states, actions, next_actions, rewards, terminals = self.replay_buffer.sample_minibatch_sarsa(64) \n",
        "            states = torch.Tensor(states)\n",
        "            next_states = torch.Tensor(next_states)\n",
        "            actions = torch.Tensor(actions)\n",
        "            next_actions = torch.Tensor(next_actions)\n",
        "            rewards = torch.Tensor(rewards)\n",
        "            terminals = torch.Tensor(terminals)\n",
        "            self.update_Sarsa_Network(states, next_states, actions, next_actions, rewards, terminals)\n",
        "    \n",
        "    def best_move(self, state):\n",
        "        return np.argmax(self.qnet(state).data.numpy())"
      ]
    },
    {
      "cell_type": "code",
      "execution_count": 7,
      "metadata": {
        "id": "VITGwUabLiN2"
      },
      "outputs": [],
      "source": [
        "class ReplayBuffer(object):\n",
        "    def __init__(self):\n",
        "        self.buffer = []\n",
        "        self.buffer_s = []\n",
        "        \n",
        "    def add_to_buffer(self, data):\n",
        "        #data must be of the form (state,next_state,action,reward,terminal)\n",
        "        self.buffer.append(data)\n",
        "        \n",
        "    def add_to_buffer_sarsa(self, data):\n",
        "        #data must be of the form (state,next_state,action,n_action,reward,terminal)\n",
        "        self.buffer_s.append(data)\n",
        "\n",
        "    def sample_minibatch(self,minibatch_length):\n",
        "        states = []\n",
        "        next_states = []\n",
        "        actions = []\n",
        "        rewards = []\n",
        "        terminals = []\n",
        "        for i in range(minibatch_length):\n",
        "            random_int = np.random.randint(0, len(self.buffer)-1) \n",
        "            transition = self.buffer[random_int]\n",
        "            states.append(transition[0])\n",
        "            next_states.append(transition[1])\n",
        "            actions.append(transition[2])\n",
        "            rewards.append(transition[3])\n",
        "            terminals.append(transition[4])\n",
        "        return torch.Tensor(states), torch.Tensor(next_states), torch.Tensor(actions), torch.Tensor(rewards), torch.Tensor(terminals)\n",
        "\n",
        "    def sample_minibatch_sarsa(self,minibatch_length):\n",
        "        states = []\n",
        "        next_states = []\n",
        "        actions = []\n",
        "        next_actions = []\n",
        "        rewards = []\n",
        "        terminals = []\n",
        "        for i in range(minibatch_length):\n",
        "            random_int = np.random.randint(0, len(self.buffer_s)-1) \n",
        "            transition = self.buffer_s[random_int]\n",
        "            states.append(transition[0])\n",
        "            next_states.append(transition[1])\n",
        "            actions.append(transition[2])\n",
        "            next_actions.append(transition[3])\n",
        "            rewards.append(transition[4])\n",
        "            terminals.append(transition[5])\n",
        "        return torch.Tensor(states), torch.Tensor(next_states), torch.Tensor(actions), torch.Tensor(next_actions), torch.Tensor(rewards), torch.Tensor(terminals)"
      ]
    },
    {
      "cell_type": "code",
      "execution_count": 8,
      "metadata": {
        "id": "0QGV1HoqLiN3"
      },
      "outputs": [],
      "source": [
        "action_dim = env.action_space.n\n",
        "state_dim = env.observation_space.shape[0]"
      ]
    },
    {
      "cell_type": "markdown",
      "metadata": {
        "id": "JGN-Kln1LiN3"
      },
      "source": [
        "# Deep Sarsa"
      ]
    },
    {
      "cell_type": "code",
      "execution_count": 9,
      "metadata": {
        "colab": {
          "base_uri": "https://localhost:8080/"
        },
        "id": "_rfkd0_ELiN3",
        "outputId": "987d5670-11dd-4a86-c770-4eb2da241587"
      },
      "outputs": [
        {
          "name": "stdout",
          "output_type": "stream",
          "text": [
            "episode: 999 sum_of_rewards_for_episode: 192.89029784414754 final reward 100 epsilon: 0.01\n"
          ]
        }
      ],
      "source": [
        "agent = DQNAgent(state_dim, action_dim)\n",
        "number_of_episodes = 1000\n",
        "max_time_steps = 3000\n",
        "epsilon = 1\n",
        "reward_list_sarsa = []\n",
        "final_rewards = []\n",
        "\n",
        "np.random.seed(0)\n",
        "for episode in range(number_of_episodes):\n",
        "    state = env.reset()\n",
        "    \n",
        "    reward_sum = 0\n",
        "    \n",
        "    action = agent.epsilon_greedy_action(torch.from_numpy(state).float(), epsilon)\n",
        "    \n",
        "    state_1, reward, terminal, _ = env.step(action)\n",
        "    \n",
        "    #Checks for early Finish\n",
        "    if terminal:\n",
        "        \n",
        "        action_1 = agent.epsilon_greedy_action(torch.from_numpy(state_1).float(), epsilon)\n",
        "        agent.replay_buffer.add_to_buffer_sarsa((state, state_1, [action], [action_1], [reward],[terminal]))\n",
        "        \n",
        "        reward_sum += reward\n",
        "        \n",
        "        final_rewards.append(reward)\n",
        "        \n",
        "        reward_list_sarsa.append(reward_sum)\n",
        "        \n",
        "        clear_output(wait=True)\n",
        "        print('Early finish!', 'reward =', reward)\n",
        "        print('episode:', episode, 'sum_of_rewards_for_episode:', reward_sum, 'final reward', \\\n",
        "                      reward, 'epsilon:', epsilon)\n",
        "        \n",
        "    #If not finished after first action - continue learning\n",
        "    else:\n",
        "        for i in range(max_time_steps):\n",
        "\n",
        "            action_1 = agent.epsilon_greedy_action(torch.from_numpy(state_1).float(), epsilon)\n",
        "\n",
        "            state_2, reward_1, terminal_1, _ = env.step(action_1)\n",
        "\n",
        "            agent.replay_buffer.add_to_buffer_sarsa((state, state_1, [action], [action_1], [reward],[terminal]))\n",
        "\n",
        "            reward_sum += reward\n",
        "\n",
        "            state = state_1\n",
        "            state_1 = state_2\n",
        "            action = action_1\n",
        "            reward = reward_1\n",
        "            terminal = terminal_1\n",
        "\n",
        "            if terminal:\n",
        "\n",
        "                action_1 = agent.epsilon_greedy_action(torch.from_numpy(state_1).float(), epsilon)\n",
        "\n",
        "                agent.replay_buffer.add_to_buffer_sarsa((state, state_1, [action], [action_1], [reward],[terminal]))\n",
        "\n",
        "                reward_sum += reward\n",
        "                \n",
        "                final_rewards.append(reward)\n",
        "                \n",
        "                reward_list_sarsa.append(reward_sum)\n",
        "\n",
        "                clear_output(wait=True)\n",
        "                print('episode:', episode, 'sum_of_rewards_for_episode:', reward_sum, 'final reward', \\\n",
        "                      reward, 'epsilon:', epsilon)\n",
        "\n",
        "                \n",
        "                break\n",
        "            \n",
        "    agent.update_s(128)\n",
        "    \n",
        "    if epsilon > 0.01:\n",
        "        epsilon *= 0.995\n",
        "    \n",
        "    if epsilon <= 0.01:\n",
        "        epsilon = 0.01\n",
        "        \n"
      ]
    },
    {
      "cell_type": "code",
      "execution_count": 10,
      "metadata": {
        "id": "Es_5TdquLiN4"
      },
      "outputs": [],
      "source": [
        "def m_a(values, window=50):\n",
        "    weight = np.repeat(1.0, window)/window\n",
        "    smas = np.convolve(values,weight,'valid')\n",
        "    return smas"
      ]
    },
    {
      "cell_type": "code",
      "execution_count": 11,
      "metadata": {
        "id": "4UG5TVBGLiN4"
      },
      "outputs": [],
      "source": [
        "smas = m_a(reward_list_sarsa)\n"
      ]
    },
    {
      "cell_type": "code",
      "execution_count": 12,
      "metadata": {
        "colab": {
          "base_uri": "https://localhost:8080/",
          "height": 367
        },
        "id": "pS_pfXEjLiN4",
        "outputId": "400435e9-ade4-4997-e954-65532cd3c3be"
      },
      "outputs": [
        {
          "data": {
            "text/plain": [
              "Text(0.5, 1.0, 'Deep SARSA learning (1000 episodes training)')"
            ]
          },
          "execution_count": 12,
          "metadata": {},
          "output_type": "execute_result"
        },
        {
          "data": {
            "image/png": "[encoded data removed]",
            "text/plain": [
              "<Figure size 576x360 with 1 Axes>"
            ]
          },
          "metadata": {
            "needs_background": "light"
          },
          "output_type": "display_data"
        }
      ],
      "source": [
        "fig, ax = plt.subplots(figsize=(8,5))\n",
        "\n",
        "ax.plot(reward_list_sarsa)\n",
        "ax.plot(smas)\n",
        "ax.set_ylabel('Rewards')\n",
        "ax.set_xlabel('Episodes')\n",
        "ax.set_title('Deep SARSA learning (1000 episodes training)')\n",
        "#plt.savefig('Sarsa600epma', transparent=True)"
      ]
    },
    {
      "cell_type": "markdown",
      "metadata": {
        "id": "knxbBaa4O3Iy"
      },
      "source": [
        "# Test the Model"
      ]
    },
    {
      "cell_type": "code",
      "execution_count": 25,
      "metadata": {
        "colab": {
          "base_uri": "https://localhost:8080/",
          "height": 49,
          "referenced_widgets": [
            "1299602a2f5f4307926c603bd90bd569",
            "6fe4a5c327854248a4183cecf0c39976",
            "2b6a4d5550d64216a2c31cf86e0301cc",
            "075b3d720ceb4cb1b706fa4c57b05d37",
            "85f9864d62e8457ca2d50f39e307945d",
            "4e80ec92b264493a8a56aad3516cff10",
            "c2143b81aec54e618810c2ee706795f7",
            "ad4c68d55676424bbc43db49a783fc1b",
            "38844d97ee59486fb4b7ecb38cf65b96",
            "de62b2fbcc7b4300bf7411d862557ea1",
            "8e65f88339e84bb2a32592db8599f1d7"
          ]
        },
        "id": "rXvlRDnJO1xk",
        "outputId": "d02e2b27-b145-47bf-edb9-9ac575ed1a63"
      },
      "outputs": [
        {
          "data": {
            "application/vnd.jupyter.widget-view+json": {
              "model_id": "1299602a2f5f4307926c603bd90bd569",
              "version_major": 2,
              "version_minor": 0
            },
            "text/plain": [
              "  0%|          | 0/100 [00:00<?, ?it/s]"
            ]
          },
          "metadata": {},
          "output_type": "display_data"
        }
      ],
      "source": [
        "total_rewards = []\n",
        "\n",
        "for i in tqdm(range(0, 100)):\n",
        "  state = env.reset()\n",
        "  total_reward = 0\n",
        "\n",
        "  while True:\n",
        "    action = agent.best_move(torch.from_numpy(state).float())\n",
        "    next_state, reward, terminal, _ = env.step(action)\n",
        "    total_reward += reward\n",
        "    state = next_state\n",
        "\n",
        "    if terminal:\n",
        "      total_rewards.append(total_reward)\n",
        "      break\n",
        "\n",
        "    env.close()"
      ]
    },
    {
      "cell_type": "code",
      "execution_count": 26,
      "metadata": {
        "colab": {
          "base_uri": "https://localhost:8080/"
        },
        "id": "9YZdQ1yrQ2j7",
        "outputId": "10d952f5-5414-4c5a-8689-8bd2fc85d5e0"
      },
      "outputs": [
        {
          "name": "stdout",
          "output_type": "stream",
          "text": [
            "Average rewards for 100 trial : 202.16874918207495\n"
          ]
        }
      ],
      "source": [
        "total_rewards = np.array(total_rewards)\n",
        "print('Average rewards for 100 trial : ' + str(np.mean(total_rewards)) )"
      ]
    },
    {
      "cell_type": "code",
      "execution_count": 27,
      "metadata": {
        "colab": {
          "base_uri": "https://localhost:8080/",
          "height": 286
        },
        "id": "qdqCjln4TaC3",
        "outputId": "fe70b507-1e47-4e46-81ec-6f9cc0f517bf"
      },
      "outputs": [
        {
          "data": {
            "text/plain": [
              "[<matplotlib.lines.Line2D at 0x7fcd56162590>]"
            ]
          },
          "execution_count": 27,
          "metadata": {},
          "output_type": "execute_result"
        },
        {
          "data": {
            "image/png": "[encoded data removed]",
            "text/plain": [
              "<Figure size 432x288 with 1 Axes>"
            ]
          },
          "metadata": {
            "needs_background": "light"
          },
          "output_type": "display_data"
        }
      ],
      "source": [
        "plt.plot(total_rewards)"
      ]
    },
    {
      "cell_type": "code",
      "execution_count": 32,
      "metadata": {
        "colab": {
          "base_uri": "https://localhost:8080/"
        },
        "id": "eFzbLv4mUPrW",
        "outputId": "6a739d9c-1ee0-4998-9ec4-44e90ad7fe71"
      },
      "outputs": [
        {
          "name": "stdout",
          "output_type": "stream",
          "text": [
            "Model score based on 100 test: 99.0%\n"
          ]
        }
      ],
      "source": [
        "score = len(total_rewards[ np.where( total_rewards >= 100 ) ]) / 100\n",
        "print('Model score based on 100 test: ' + str(score*100) + '%')"
      ]
    },
    {
      "cell_type": "markdown",
      "metadata": {
        "id": "6G6AjoKNLiN5"
      },
      "source": [
        "# Visualise the Model"
      ]
    },
    {
      "cell_type": "code",
      "execution_count": 33,
      "metadata": {
        "colab": {
          "base_uri": "https://localhost:8080/",
          "height": 269
        },
        "id": "PSHBaNCJLiN5",
        "outputId": "5dad575a-011d-4afa-cf5a-e50f034a1b95"
      },
      "outputs": [
        {
          "data": {
            "image/png": "[encoded data removed]",
            "text/plain": [
              "<Figure size 432x288 with 1 Axes>"
            ]
          },
          "metadata": {
            "needs_background": "light"
          },
          "output_type": "display_data"
        }
      ],
      "source": [
        "state = env.reset()\n",
        "\n",
        "img = plt.imshow(env.render(mode='rgb_array'))\n",
        "\n",
        "total_reward = 0\n",
        "\n",
        "while True:\n",
        "\n",
        "  # env.render()\n",
        "  action = agent.best_move(torch.from_numpy(state).float())\n",
        "    \n",
        "  next_state, reward, terminal, _ = env.step(action)\n",
        "\n",
        "  total_reward += reward\n",
        "\n",
        "  img.set_data(env.render(mode='rgb_array'))\n",
        "  display(plt.gcf())\n",
        "  clear_output(wait=True)\n",
        "    \n",
        "  state = next_state\n",
        "    \n",
        "  if terminal:\n",
        "      break\n",
        "    \n",
        "env.close()"
      ]
    },
    {
      "cell_type": "code",
      "execution_count": 34,
      "metadata": {
        "colab": {
          "base_uri": "https://localhost:8080/"
        },
        "id": "qNWyLdhfateA",
        "outputId": "d46118de-973e-4edb-c881-76d28b3fab48"
      },
      "outputs": [
        {
          "name": "stdout",
          "output_type": "stream",
          "text": [
            "205.29404689153472\n"
          ]
        }
      ],
      "source": [
        "print(total_reward)"
      ]
    },
    {
      "cell_type": "code",
      "execution_count": 14,
      "metadata": {
        "id": "t_DY0sERgS_c"
      },
      "outputs": [],
      "source": []
    }
  ],
  "metadata": {
    "colab": {
      "provenance": []
    },
    "kernelspec": {
      "display_name": "Python 3",
      "language": "python",
      "name": "python3"
    },
    "language_info": {
      "codemirror_mode": {
        "name": "ipython",
        "version": 3
      },
      "file_extension": ".py",
      "mimetype": "text/x-python",
      "name": "python",
      "nbconvert_exporter": "python",
      "pygments_lexer": "ipython3",
      "version": "3.8.2"
    },
    "widgets": {
      "application/vnd.jupyter.widget-state+json": {
        "075b3d720ceb4cb1b706fa4c57b05d37": {
          "model_module": "@jupyter-widgets/controls",
          "model_module_version": "1.5.0",
          "model_name": "HTMLModel",
          "state": {
            "_dom_classes": [],
            "_model_module": "@jupyter-widgets/controls",
            "_model_module_version": "1.5.0",
            "_model_name": "HTMLModel",
            "_view_count": null,
            "_view_module": "@jupyter-widgets/controls",
            "_view_module_version": "1.5.0",
            "_view_name": "HTMLView",
            "description": "",
            "description_tooltip": null,
            "layout": "IPY_MODEL_de62b2fbcc7b4300bf7411d862557ea1",
            "placeholder": "​",
            "style": "IPY_MODEL_8e65f88339e84bb2a32592db8599f1d7",
            "value": " 100/100 [01:34&lt;00:00,  1.10it/s]"
          }
        },
        "1299602a2f5f4307926c603bd90bd569": {
          "model_module": "@jupyter-widgets/controls",
          "model_module_version": "1.5.0",
          "model_name": "HBoxModel",
          "state": {
            "_dom_classes": [],
            "_model_module": "@jupyter-widgets/controls",
            "_model_module_version": "1.5.0",
            "_model_name": "HBoxModel",
            "_view_count": null,
            "_view_module": "@jupyter-widgets/controls",
            "_view_module_version": "1.5.0",
            "_view_name": "HBoxView",
            "box_style": "",
            "children": [
              "IPY_MODEL_6fe4a5c327854248a4183cecf0c39976",
              "IPY_MODEL_2b6a4d5550d64216a2c31cf86e0301cc",
              "IPY_MODEL_075b3d720ceb4cb1b706fa4c57b05d37"
            ],
            "layout": "IPY_MODEL_85f9864d62e8457ca2d50f39e307945d"
          }
        },
        "2b6a4d5550d64216a2c31cf86e0301cc": {
          "model_module": "@jupyter-widgets/controls",
          "model_module_version": "1.5.0",
          "model_name": "FloatProgressModel",
          "state": {
            "_dom_classes": [],
            "_model_module": "@jupyter-widgets/controls",
            "_model_module_version": "1.5.0",
            "_model_name": "FloatProgressModel",
            "_view_count": null,
            "_view_module": "@jupyter-widgets/controls",
            "_view_module_version": "1.5.0",
            "_view_name": "ProgressView",
            "bar_style": "success",
            "description": "",
            "description_tooltip": null,
            "layout": "IPY_MODEL_ad4c68d55676424bbc43db49a783fc1b",
            "max": 100,
            "min": 0,
            "orientation": "horizontal",
            "style": "IPY_MODEL_38844d97ee59486fb4b7ecb38cf65b96",
            "value": 100
          }
        },
        "38844d97ee59486fb4b7ecb38cf65b96": {
          "model_module": "@jupyter-widgets/controls",
          "model_module_version": "1.5.0",
          "model_name": "ProgressStyleModel",
          "state": {
            "_model_module": "@jupyter-widgets/controls",
            "_model_module_version": "1.5.0",
            "_model_name": "ProgressStyleModel",
            "_view_count": null,
            "_view_module": "@jupyter-widgets/base",
            "_view_module_version": "1.2.0",
            "_view_name": "StyleView",
            "bar_color": null,
            "description_width": ""
          }
        },
        "4e80ec92b264493a8a56aad3516cff10": {
          "model_module": "@jupyter-widgets/base",
          "model_module_version": "1.2.0",
          "model_name": "LayoutModel",
          "state": {
            "_model_module": "@jupyter-widgets/base",
            "_model_module_version": "1.2.0",
            "_model_name": "LayoutModel",
            "_view_count": null,
            "_view_module": "@jupyter-widgets/base",
            "_view_module_version": "1.2.0",
            "_view_name": "LayoutView",
            "align_content": null,
            "align_items": null,
            "align_self": null,
            "border": null,
            "bottom": null,
            "display": null,
            "flex": null,
            "flex_flow": null,
            "grid_area": null,
            "grid_auto_columns": null,
            "grid_auto_flow": null,
            "grid_auto_rows": null,
            "grid_column": null,
            "grid_gap": null,
            "grid_row": null,
            "grid_template_areas": null,
            "grid_template_columns": null,
            "grid_template_rows": null,
            "height": null,
            "justify_content": null,
            "justify_items": null,
            "left": null,
            "margin": null,
            "max_height": null,
            "max_width": null,
            "min_height": null,
            "min_width": null,
            "object_fit": null,
            "object_position": null,
            "order": null,
            "overflow": null,
            "overflow_x": null,
            "overflow_y": null,
            "padding": null,
            "right": null,
            "top": null,
            "visibility": null,
            "width": null
          }
        },
        "6fe4a5c327854248a4183cecf0c39976": {
          "model_module": "@jupyter-widgets/controls",
          "model_module_version": "1.5.0",
          "model_name": "HTMLModel",
          "state": {
            "_dom_classes": [],
            "_model_module": "@jupyter-widgets/controls",
            "_model_module_version": "1.5.0",
            "_model_name": "HTMLModel",
            "_view_count": null,
            "_view_module": "@jupyter-widgets/controls",
            "_view_module_version": "1.5.0",
            "_view_name": "HTMLView",
            "description": "",
            "description_tooltip": null,
            "layout": "IPY_MODEL_4e80ec92b264493a8a56aad3516cff10",
            "placeholder": "​",
            "style": "IPY_MODEL_c2143b81aec54e618810c2ee706795f7",
            "value": "100%"
          }
        },
        "85f9864d62e8457ca2d50f39e307945d": {
          "model_module": "@jupyter-widgets/base",
          "model_module_version": "1.2.0",
          "model_name": "LayoutModel",
          "state": {
            "_model_module": "@jupyter-widgets/base",
            "_model_module_version": "1.2.0",
            "_model_name": "LayoutModel",
            "_view_count": null,
            "_view_module": "@jupyter-widgets/base",
            "_view_module_version": "1.2.0",
            "_view_name": "LayoutView",
            "align_content": null,
            "align_items": null,
            "align_self": null,
            "border": null,
            "bottom": null,
            "display": null,
            "flex": null,
            "flex_flow": null,
            "grid_area": null,
            "grid_auto_columns": null,
            "grid_auto_flow": null,
            "grid_auto_rows": null,
            "grid_column": null,
            "grid_gap": null,
            "grid_row": null,
            "grid_template_areas": null,
            "grid_template_columns": null,
            "grid_template_rows": null,
            "height": null,
            "justify_content": null,
            "justify_items": null,
            "left": null,
            "margin": null,
            "max_height": null,
            "max_width": null,
            "min_height": null,
            "min_width": null,
            "object_fit": null,
            "object_position": null,
            "order": null,
            "overflow": null,
            "overflow_x": null,
            "overflow_y": null,
            "padding": null,
            "right": null,
            "top": null,
            "visibility": null,
            "width": null
          }
        },
        "8e65f88339e84bb2a32592db8599f1d7": {
          "model_module": "@jupyter-widgets/controls",
          "model_module_version": "1.5.0",
          "model_name": "DescriptionStyleModel",
          "state": {
            "_model_module": "@jupyter-widgets/controls",
            "_model_module_version": "1.5.0",
            "_model_name": "DescriptionStyleModel",
            "_view_count": null,
            "_view_module": "@jupyter-widgets/base",
            "_view_module_version": "1.2.0",
            "_view_name": "StyleView",
            "description_width": ""
          }
        },
        "ad4c68d55676424bbc43db49a783fc1b": {
          "model_module": "@jupyter-widgets/base",
          "model_module_version": "1.2.0",
          "model_name": "LayoutModel",
          "state": {
            "_model_module": "@jupyter-widgets/base",
            "_model_module_version": "1.2.0",
            "_model_name": "LayoutModel",
            "_view_count": null,
            "_view_module": "@jupyter-widgets/base",
            "_view_module_version": "1.2.0",
            "_view_name": "LayoutView",
            "align_content": null,
            "align_items": null,
            "align_self": null,
            "border": null,
            "bottom": null,
            "display": null,
            "flex": null,
            "flex_flow": null,
            "grid_area": null,
            "grid_auto_columns": null,
            "grid_auto_flow": null,
            "grid_auto_rows": null,
            "grid_column": null,
            "grid_gap": null,
            "grid_row": null,
            "grid_template_areas": null,
            "grid_template_columns": null,
            "grid_template_rows": null,
            "height": null,
            "justify_content": null,
            "justify_items": null,
            "left": null,
            "margin": null,
            "max_height": null,
            "max_width": null,
            "min_height": null,
            "min_width": null,
            "object_fit": null,
            "object_position": null,
            "order": null,
            "overflow": null,
            "overflow_x": null,
            "overflow_y": null,
            "padding": null,
            "right": null,
            "top": null,
            "visibility": null,
            "width": null
          }
        },
        "c2143b81aec54e618810c2ee706795f7": {
          "model_module": "@jupyter-widgets/controls",
          "model_module_version": "1.5.0",
          "model_name": "DescriptionStyleModel",
          "state": {
            "_model_module": "@jupyter-widgets/controls",
            "_model_module_version": "1.5.0",
            "_model_name": "DescriptionStyleModel",
            "_view_count": null,
            "_view_module": "@jupyter-widgets/base",
            "_view_module_version": "1.2.0",
            "_view_name": "StyleView",
            "description_width": ""
          }
        },
        "de62b2fbcc7b4300bf7411d862557ea1": {
          "model_module": "@jupyter-widgets/base",
          "model_module_version": "1.2.0",
          "model_name": "LayoutModel",
          "state": {
            "_model_module": "@jupyter-widgets/base",
            "_model_module_version": "1.2.0",
            "_model_name": "LayoutModel",
            "_view_count": null,
            "_view_module": "@jupyter-widgets/base",
            "_view_module_version": "1.2.0",
            "_view_name": "LayoutView",
            "align_content": null,
            "align_items": null,
            "align_self": null,
            "border": null,
            "bottom": null,
            "display": null,
            "flex": null,
            "flex_flow": null,
            "grid_area": null,
            "grid_auto_columns": null,
            "grid_auto_flow": null,
            "grid_auto_rows": null,
            "grid_column": null,
            "grid_gap": null,
            "grid_row": null,
            "grid_template_areas": null,
            "grid_template_columns": null,
            "grid_template_rows": null,
            "height": null,
            "justify_content": null,
            "justify_items": null,
            "left": null,
            "margin": null,
            "max_height": null,
            "max_width": null,
            "min_height": null,
            "min_width": null,
            "object_fit": null,
            "object_position": null,
            "order": null,
            "overflow": null,
            "overflow_x": null,
            "overflow_y": null,
            "padding": null,
            "right": null,
            "top": null,
            "visibility": null,
            "width": null
          }
        }
      }
    }
  },
  "nbformat": 4,
  "nbformat_minor": 0
}
